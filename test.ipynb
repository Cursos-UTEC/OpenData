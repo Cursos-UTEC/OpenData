{
 "cells": [
  {
   "cell_type": "markdown",
   "metadata": {},
   "source": [
    "# Laboratorio: El ADN de un Negocio Exitoso con Datos de Yelp 🚀\n",
    "\n",
    "¡Muy buenos días, futuros consultores y estrategas de negocio!\n",
    "\n",
    "Hoy nos quitamos el sombrero de estudiantes y nos ponemos el de **consultores de datos**. Nuestro nuevo cliente, un emprendedor entusiasta, quiere abrir un restaurante en una ciudad muy competitiva y nos ha contratado para que le demos una ventaja. Nuestra misión: **usar el poder de los datos de Yelp para descubrir la fórmula secreta del éxito.**\n",
    "\n",
    "No vamos a programar desde cero. Vamos a usar el código como si fuera un potente escáner: lo ejecutaremos para analizar la evidencia y nuestra verdadera habilidad será interpretar los resultados y dar recomendaciones estratégicas. ¡Empecemos!"
   ]
  },
  {
   "cell_type": "code",
   "execution_count": null,
   "metadata": {
    "title": "🛠️ Paso 1: Preparando nuestras herramientas y datos"
   },
   "outputs": [],
   "source": [
    "# Este bloque instala librerías y descarga el set de datos de Yelp.\n",
    "# El archivo es grande, así que este paso puede tardar entre 2 y 5 minutos. ¡Paciencia!\n",
    "\n",
    "print(\"⚙️ Instalando librerías necesarias...\")\n",
    "!pip install wordcloud -q\n",
    "\n",
    "print(\"📥 Descargando el set de datos de Yelp (esto puede tardar)...\")\n",
    "# Usaremos una versión alojada en Kaggle para facilitar la descarga\n",
    "!wget -q --show-progress https://storage.googleapis.com/big-data-course-assets/yelp_dataset.tar\n",
    "\n",
    "print(\"\\n📦 Descomprimiendo archivos...\")\n",
    "!tar -xf yelp_dataset.tar\n",
    "\n",
    "print(\"\\n✅ ¡Entorno listo! Ya tenemos los datos para empezar nuestra investigación.\")"
   ]
  },
  {
   "cell_type": "code",
   "execution_count": null,
   "metadata": {
    "title": "🔍 Paso 2: Cargando los archivos principales en nuestra mesa de trabajo"
   },
   "outputs": [],
   "source": [
    "# Vamos a cargar los datos de los negocios y las reseñas.\n",
    "# Pandas es nuestra herramienta para manejar estas tablas de datos.\n",
    "\n",
    "import pandas as pd\n",
    "import matplotlib.pyplot as plt\n",
    "import seaborn as sns\n",
    "import json\n",
    "\n",
    "# --- Carga de Datos ---\n",
    "# Los archivos son 'JSON por línea', por eso usamos lines=True.\n",
    "print(\"Cargando datos de negocios...\")\n",
    "df_business = pd.read_json('yelp_academic_dataset_business.json', lines=True)\n",
    "\n",
    "print(\"Cargando datos de reseñas (esto puede tomar un momento)...\")\n",
    "# Para que el notebook sea ágil, solo cargaremos las primeras 2 millones de reseñas.\n",
    "df_review = pd.read_json('yelp_academic_dataset_review.json', lines=True, chunksize=2000000).get_chunk()\n",
    "\n",
    "\n",
    "# --- Primera Mirada ---\n",
    "print(\"\\n--- Vista Previa de los Datos de Negocios ---\")\n",
    "print(f\"Tenemos datos de {df_business.shape[0]} negocios.\")\n",
    "display(df_business.head())\n",
    "\n",
    "print(\"\\n--- Vista Previa de los Datos de Reseñas ---\")\n",
    "print(f\"Tenemos {df_review.shape[0]:,} reseñas para analizar.\")\n",
    "display(df_review.head())"
   ]
  },
  {
   "cell_type": "markdown",
   "metadata": {},
   "source": [
    "## PARTE 1: El Panorama General (Análisis de Datos Estructurados) 🏙️\n",
    "\n",
    "Todo buen consultor empieza con una vista panorámica. Antes de analizar un negocio, debemos entender el mercado. Usaremos la ciudad de **Las Vegas** como nuestro caso de estudio. La información en `df_business` (estrellas, cantidad de reseñas, ciudad) es **dato estructurado**: ordenado en filas y columnas, fácil de contar y agregar."
   ]
  },
  {
   "cell_type": "code",
   "execution_count": null,
   "metadata": {
    "title": "Enfocándonos en nuestro mercado: Las Vegas"
   },
   "outputs": [],
   "source": [
    "# Filtramos la tabla para quedarnos solo con los negocios en Las Vegas.\n",
    "df_vegas = df_business[df_business['city'] == 'Las Vegas'].copy()\n",
    "\n",
    "print(f\"Análisis de mercado: Hay {df_vegas.shape[0]} negocios registrados en Las Vegas en nuestro dataset.\")\n",
    "\n",
    "# Graficamos la distribución de las calificaciones (estrellas)\n",
    "plt.figure(figsize=(10, 6))\n",
    "sns.countplot(x='stars', data=df_vegas, palette='viridis', order=df_vegas['stars'].value_counts().index)\n",
    "plt.title('Distribución de Calificaciones (Estrellas) en Las Vegas', fontsize=16)\n",
    "plt.xlabel('Calificación (Estrellas)', fontsize=12)\n",
    "plt.ylabel('Cantidad de Negocios', fontsize=12)\n",
    "plt.show()"
   ]
  },
  {
   "cell_type": "markdown",
   "metadata": {},
   "source": [
    "### 🕵️ Mini Reto #1: ¿Dónde está la competencia?\n",
    "\n",
    "Nuestro cliente quiere abrir un restaurante. ¿Cuáles son las categorías de negocio más comunes en Las Vegas? ¿Y las más saturadas?\n",
    "\n",
    "**Su Tarea:** Ejecute el siguiente código e interprete el gráfico para responder:\n",
    "1.  ¿Cuál es la categoría de negocio más común en Las Vegas?\n",
    "2.  Si quisiera abrir un negocio con menos competencia directa, ¿qué tipo de negocio evitaría según este gráfico?"
   ]
  },
  {
   "cell_type": "code",
   "execution_count": null,
   "metadata": {
    "title": "Código del Reto #1: Top 15 categorías de negocio"
   },
   "outputs": [],
   "source": [
    "# Este código procesa la columna 'categories', que es un texto, para contar cada categoría individual.\n",
    "df_vegas.dropna(subset=['categories'], inplace=True)\n",
    "categories_exploded = df_vegas['categories'].str.split(', ').explode()\n",
    "\n",
    "plt.figure(figsize=(12, 8))\n",
    "categories_exploded.value_counts().nlargest(15).sort_values().plot(kind='barh')\n",
    "plt.title('Top 15 Categorías de Negocio Más Comunes en Las Vegas', fontsize=16)\n",
    "plt.xlabel('Cantidad de Negocios', fontsize=12)\n",
    "plt.show()"
   ]
  },
  {
   "cell_type": "markdown",
   "metadata": {},
   "source": [
    "## PARTE 2: Los Detalles que Importan (Análisis de Datos Semi-Estructurados) 📋\n",
    "\n",
    "Ahora, profundicemos. ¿Qué hace que un negocio tenga éxito más allá de su categoría? La columna `attributes` contiene información valiosísima (si aceptan tarjeta, si tienen terraza, etc.), pero no está en una columna ordenada. Es un **dato semi-estructurado** (un objeto JSON anidado). Nuestra tarea es \"desempacarlo\" para analizarlo."
   ]
  },
  {
   "cell_type": "markdown",
   "metadata": {},
   "source": [
    "### 🤔 Mini Reto #2: ¿Pagar por el ambiente vale la pena?\n",
    "\n",
    "El cliente se pregunta si debe invertir en una terraza (`OutdoorSeating`). ¿Acaso los restaurantes con terraza tienen, en promedio, una mejor calificación que los que no la tienen?\n",
    "\n",
    "**Su Tarea:** Ejecute el código de abajo, que extrae el atributo `OutdoorSeating` y calcula la calificación promedio para ambos grupos. Responda:\n",
    "1.  ¿Cuál es la calificación promedio de los restaurantes con y sin terraza?\n",
    "2.  Basado **únicamente** en estos datos, ¿le recomendaría al cliente invertir en una terraza? ¿Por qué?"
   ]
  },
  {
   "cell_type": "code",
   "execution_count": null,
   "metadata": {
    "title": "Código del Reto #2: Analizando el impacto de la terraza ('OutdoorSeating')"
   },
   "outputs": [],
   "source": [
    "# 1. Filtramos para quedarnos solo con restaurantes\n",
    "df_restaurants = df_vegas[df_vegas['categories'].str.contains('Restaurants', na=False)].copy()\n",
    "\n",
    "# 2. Extraemos el atributo 'OutdoorSeating' del JSON\n",
    "# No se preocupe por el código, enfóquese en el resultado\n",
    "attributes_dict = df_restaurants['attributes'].dropna().apply(json.loads)\n",
    "df_attributes = pd.json_normalize(attributes_dict)\n",
    "df_restaurants_merged = df_restaurants.join(df_attributes)\n",
    "\n",
    "# 3. Calculamos y mostramos la calificación promedio\n",
    "# Convertimos el valor a booleano (True/False) para el análisis\n",
    "df_restaurants_merged['OutdoorSeating'] = df_restaurants_merged['OutdoorSeating'].apply(lambda x: x == 'True' if isinstance(x, str) else None)\n",
    "avg_stars_seating = df_restaurants_merged.groupby('OutdoorSeating')['stars'].mean().round(2)\n",
    "\n",
    "print(\"--- Calificación Promedio según si tienen Terraza ---\")\n",
    "print(avg_stars_seating)"
   ]
  },
  {
   "cell_type": "markdown",
   "metadata": {},
   "source": [
    "## PARTE 3: La Voz del Cliente (Análisis de Datos No Estructurados - Texto) 💬\n",
    "\n",
    "Los números y atributos nos dicen 'qué' pasa, pero no 'por qué'. Para eso, necesitamos analizar el **dato no estructurado** más valioso que tenemos: las reseñas de los clientes. Vamos a comparar las palabras más usadas en las reseñas de 1 estrella contra las de 5 estrellas para encontrar los secretos del éxito y las causas del fracaso."
   ]
  },
  {
   "cell_type": "markdown",
   "metadata": {},
   "source": [
    "### 🗣️ Mini Reto #3: La anatomía del éxito y el fracaso\n",
    "\n",
    "**Su Tarea:** Ejecute los dos bloques de código siguientes para generar las \"nubes de palabras\" de las reseñas. Una para las peores experiencias (1 estrella) y otra para las mejores (5 estrellas). Luego, compare las dos imágenes y responda:\n",
    "\n",
    "1.  ¿Cuáles son las 3 palabras más destacadas en las reseñas de 5 estrellas? ¿Qué nos dice esto sobre lo que más valoran los clientes satisfechos?\n",
    "2.  ¿Cuáles son las 3 palabras más destacadas en las reseñas de 1 estrella? ¿Qué nos dice esto sobre los errores más comunes que cometen los negocios?\n",
    "3.  ¿Qué recomendación clave sobre el **servicio al cliente** le daría al emprendedor basándose en esta comparación?"
   ]
  },
  {
   "cell_type": "code",
   "execution_count": null,
   "metadata": {
    "title": "Código del Reto #3 (Parte A): Nube de palabras de reseñas de 5 ESTRELLAS"
   },
   "outputs": [],
   "source": [
    "from wordcloud import WordCloud\n",
    "\n",
    "# Unimos los dataframes para tener las reseñas con la info del negocio\n",
    "df_vegas_reviews = pd.merge(df_vegas, df_review, on='business_id', how='inner')\n",
    "\n",
    "# Creamos un gran texto con todas las reseñas de 5 estrellas\n",
    "text_5_star = \" \".join(review for review in df_vegas_reviews[df_vegas_reviews['stars_y'] == 5]['text'])\n",
    "\n",
    "# Generamos la nube de palabras\n",
    "wordcloud_5_star = WordCloud(background_color=\"white\", max_words=50, colormap='viridis').generate(text_5_star)\n",
    "\n",
    "plt.figure(figsize=(12, 8))\n",
    "plt.imshow(wordcloud_5_star, interpolation='bilinear')\n",
    "plt.axis(\"off\")\n",
    "plt.title(\"Palabras Más Comunes en Reseñas de 5 Estrellas\", fontsize=20)\n",
    "plt.show()"
   ]
  },
  {
   "cell_type": "code",
   "execution_count": null,
   "metadata": {
    "title": "Código del Reto #3 (Parte B): Nube de palabras de reseñas de 1 ESTRELLA"
   },
   "outputs": [],
   "source": [
    "# Creamos un gran texto con todas las reseñas de 1 estrella\n",
    "text_1_star = \" \".join(review for review in df_vegas_reviews[df_vegas_reviews['stars_y'] == 1]['text'])\n",
    "\n",
    "# Generamos la nube de palabras\n",
    "wordcloud_1_star = WordCloud(background_color=\"black\", max_words=50, colormap='Reds').generate(text_1_star)\n",
    "\n",
    "plt.figure(figsize=(12, 8))\n",
    "plt.imshow(wordcloud_1_star, interpolation='bilinear')\n",
    "plt.axis(\"off\")\n",
    "plt.title(\"Palabras Más Comunes en Reseñas de 1 Estrella\", fontsize=20)\n",
    "plt.show()"
   ]
  },
  {
   "cell_type": "markdown",
   "metadata": {},
   "source": [
    "## 🏆 El Reto Final: Su Recomendación Estratégica\n",
    "\n",
    "Ha analizado el mercado, los atributos del negocio y la voz del cliente. Ahora es el momento de actuar como un verdadero consultor.\n",
    "\n",
    "Nuestro cliente quiere abrir un restaurante de **Comida Peruana** en Las Vegas. Basándose en todo el análisis que ha ejecutado en este notebook:\n",
    "\n",
    "**Su Tarea Final:** Elabore una recomendación de 3 puntos clave para el cliente. Sea breve y directo.\n",
    "\n",
    "1.  **La Oportunidad de Mercado:** ¿Recomendaría abrir un restaurante peruano? ¿Por qué? (Puede volver a ejecutar el código del Reto #1 filtrando por \"Peruvian\" o \"Restaurants\" para justificar su respuesta).\n",
    "2.  **La Clave del Servicio (Basado en el Reto #3):** ¿Cuál es el factor #1 relacionado con el servicio o la experiencia que debe obsesionar al cliente para conseguir reseñas de 5 estrellas?\n",
    "3.  **Una Inversión Inteligente (Basado en el Reto #2):** Mencione un atributo o característica del local (como la terraza u otro que pueda explorar) que los datos sugieren que tiene un impacto positivo en la calificación.\n",
    "\n",
    "Prepare sus respuestas. En nuestra próxima sesión, las discutiremos en grupo. ¡Excelente trabajo, consultores!"
   ]
  }
 ],
 "metadata": {
  "colab": {
   "provenance": []
  },
  "kernelspec": {
   "display_name": "Python 3",
   "name": "python3"
  },
  "language_info": {
   "name": "python"
  }
 },
 "nbformat": 4,
 "nbformat_minor": 5
}